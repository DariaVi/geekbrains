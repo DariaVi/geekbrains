{
  "nbformat": 4,
  "nbformat_minor": 0,
  "metadata": {
    "colab": {
      "name": "Lesson2Linalg.ipynb",
      "provenance": [],
      "collapsed_sections": []
    },
    "kernelspec": {
      "name": "python3",
      "display_name": "Python 3"
    },
    "language_info": {
      "name": "python"
    }
  },
  "cells": [
    {
      "cell_type": "code",
      "execution_count": null,
      "metadata": {
        "id": "xnjL_IHE660J"
      },
      "outputs": [],
      "source": [
        "import numpy as np"
      ]
    },
    {
      "cell_type": "code",
      "source": [
        "Установить, какие произведения матриц АВ и  ВА определены, и найти размерности полученных матриц:\n",
        "\n",
        "а)  А — матрица 4*2 ,  В — матрица 4*2;\n",
        "\n",
        "б)  А — матрица 2*5 ,  В — матрица 5*3;\n",
        "\n",
        "в)  А — матрица 8*3 ,  В — матрица 3*8;\n",
        "\n",
        "г)  А — квадратная матрица 4*4,  В — квадратная матрица 4*4.\n",
        "\n",
        "Вариант a:\n",
        "\n",
        " А*В = 4*2 и 4*2\n",
        "\n",
        " В*А = 4*2 и 4*2\n",
        "\n",
        "Произведения не определены\n",
        "\n",
        "Вариант б:\n",
        "\n",
        "А*В = 2*5 и 5*3, произведение определено, размерность полученной матрицы 2*3\n",
        "\n",
        "В*А = 5*3 и 2*5, произведение не определено\n",
        "\n",
        "Вариант в:\n",
        "\n",
        " А*В = 8*3 и 3*8, произведение определено, размерность полученной матрицы 8*8\n",
        "\n",
        " В*А = 3*8 и 8*3, произведение определено, размерность полученной матрицы 3*3\n",
        "\n",
        "Вариант г:\n",
        "\n",
        "А*В, В*А,  - оба произведения определены, размерность полученной матрицы 4*4"
      ],
      "metadata": {
        "id": "cAbb2N7-7eZD"
      },
      "execution_count": null,
      "outputs": []
    },
    {
      "cell_type": "code",
      "source": [
        "a = np.array([[1,-2], [3,0]])\n",
        "b = np.array([[4,-1], [0,5]])\n",
        "result2_1 = a + b\n",
        "result2_1"
      ],
      "metadata": {
        "colab": {
          "base_uri": "https://localhost:8080/"
        },
        "id": "uhlWDh4u9UH6",
        "outputId": "b2f073b5-59e5-4074-cd5a-bf9230c79286"
      },
      "execution_count": null,
      "outputs": [
        {
          "output_type": "execute_result",
          "data": {
            "text/plain": [
              "array([[ 5, -3],\n",
              "       [ 3,  5]])"
            ]
          },
          "metadata": {},
          "execution_count": 4
        }
      ]
    },
    {
      "cell_type": "code",
      "source": [
        "result2_2 = np.dot(a, b)\n",
        "result2_2"
      ],
      "metadata": {
        "colab": {
          "base_uri": "https://localhost:8080/"
        },
        "id": "olK6IQ059aTA",
        "outputId": "7ec77978-dc71-4ba8-b4b7-ef9ef9de3993"
      },
      "execution_count": null,
      "outputs": [
        {
          "output_type": "execute_result",
          "data": {
            "text/plain": [
              "array([[  4, -11],\n",
              "       [ 12,  -3]])"
            ]
          },
          "metadata": {},
          "execution_count": 5
        }
      ]
    },
    {
      "cell_type": "code",
      "source": [
        "a = np.array([[1,7], [3,-6]])\n",
        "b = np.array([[0,5], [2,-1]])\n",
        "c = np.array([[2,-4], [1,1]])\n",
        "result3 = (3 * a) + (-2 * b) + (4 * c)\n",
        "result3"
      ],
      "metadata": {
        "colab": {
          "base_uri": "https://localhost:8080/"
        },
        "id": "Vno7RNvS9eW6",
        "outputId": "7bf0e5a4-6388-408d-ff9c-f85b697c8401"
      },
      "execution_count": null,
      "outputs": [
        {
          "output_type": "execute_result",
          "data": {
            "text/plain": [
              "array([[ 11,  -5],\n",
              "       [  9, -12]])"
            ]
          },
          "metadata": {},
          "execution_count": 6
        }
      ]
    },
    {
      "cell_type": "code",
      "source": [
        "a = np.array([[4,1], [5,-2], [2,3]])\n",
        "aT = a.T\n",
        "aT"
      ],
      "metadata": {
        "colab": {
          "base_uri": "https://localhost:8080/"
        },
        "id": "BZq2WqXn9e_i",
        "outputId": "3dcecd6e-20b5-415b-82ba-c2c2f6425057"
      },
      "execution_count": null,
      "outputs": [
        {
          "output_type": "execute_result",
          "data": {
            "text/plain": [
              "array([[ 4,  5,  2],\n",
              "       [ 1, -2,  3]])"
            ]
          },
          "metadata": {},
          "execution_count": 7
        }
      ]
    },
    {
      "cell_type": "code",
      "source": [
        "result4_1 = np.dot(a, aT)\n",
        "result4_1"
      ],
      "metadata": {
        "colab": {
          "base_uri": "https://localhost:8080/"
        },
        "id": "vJJIMEXF9iUb",
        "outputId": "4b1b3446-52ce-45e1-b565-72779c7948ef"
      },
      "execution_count": null,
      "outputs": [
        {
          "output_type": "execute_result",
          "data": {
            "text/plain": [
              "array([[17, 18, 11],\n",
              "       [18, 29,  4],\n",
              "       [11,  4, 13]])"
            ]
          },
          "metadata": {},
          "execution_count": 8
        }
      ]
    },
    {
      "cell_type": "code",
      "source": [
        "result4_2 = np.dot(aT, a)\n",
        "result4_2\n"
      ],
      "metadata": {
        "colab": {
          "base_uri": "https://localhost:8080/"
        },
        "id": "cg299fdK9oeL",
        "outputId": "c9a03548-3f7a-4afe-a2ea-85a7d3f9a866"
      },
      "execution_count": null,
      "outputs": [
        {
          "output_type": "execute_result",
          "data": {
            "text/plain": [
              "array([[45,  0],\n",
              "       [ 0, 14]])"
            ]
          },
          "metadata": {},
          "execution_count": 9
        }
      ]
    }
  ]
}